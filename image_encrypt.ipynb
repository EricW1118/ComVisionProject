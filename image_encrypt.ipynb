{
  "nbformat": 4,
  "nbformat_minor": 0,
  "metadata": {
    "colab": {
      "provenance": []
    },
    "kernelspec": {
      "name": "python3",
      "display_name": "Python 3"
    },
    "language_info": {
      "name": "python"
    }
  },
  "cells": [
    {
      "cell_type": "code",
      "source": [
        "# read the password and retrieve the ASCII values of each character\n",
        "def password_reader(password):\n",
        "  password_values=[]\n",
        "  for alphabet in password:\n",
        "      if isinstance(alphabet, str):\n",
        "         password_values.append(ord(alphabet))\n",
        "      else:\n",
        "         password_values.append(alphabet)\n",
        "  return password_values"
      ],
      "metadata": {
        "id": "-rTMBfzk72Ya"
      },
      "execution_count": null,
      "outputs": []
    },
    {
      "cell_type": "code",
      "source": [
        "!pip install cryptography"
      ],
      "metadata": {
        "colab": {
          "base_uri": "https://localhost:8080/"
        },
        "id": "_y--iXhDAlSP",
        "outputId": "247beac9-cd36-41d8-d5ce-d63ce5d97b62"
      },
      "execution_count": null,
      "outputs": [
        {
          "output_type": "stream",
          "name": "stdout",
          "text": [
            "Collecting cryptography\n",
            "  Downloading cryptography-41.0.2-cp37-abi3-manylinux_2_28_x86_64.whl (4.3 MB)\n",
            "\u001b[2K     \u001b[90m━━━━━━━━━━━━━━━━━━━━━━━━━━━━━━━━━━━━━━━━\u001b[0m \u001b[32m4.3/4.3 MB\u001b[0m \u001b[31m30.7 MB/s\u001b[0m eta \u001b[36m0:00:00\u001b[0m\n",
            "\u001b[?25hRequirement already satisfied: cffi>=1.12 in /usr/local/lib/python3.10/dist-packages (from cryptography) (1.15.1)\n",
            "Requirement already satisfied: pycparser in /usr/local/lib/python3.10/dist-packages (from cffi>=1.12->cryptography) (2.21)\n",
            "Installing collected packages: cryptography\n",
            "Successfully installed cryptography-41.0.2\n"
          ]
        }
      ]
    },
    {
      "cell_type": "code",
      "source": [
        "from cryptography.fernet import Fernet\n",
        "from cryptography.hazmat.primitives import hashes\n",
        "from cryptography.hazmat.primitives.kdf.pbkdf2 import PBKDF2HMAC\n",
        "from cryptography.hazmat.backends import default_backend\n",
        "from PIL import Image\n",
        "import io\n",
        "import base64\n",
        "def generate_fernet_key(password):\n",
        "    salt = b'\\x92\\xd7\\x94\\xcf\\xff\\xcc\\xfe\\xbf\\x8e\\x94\\xe9\\xe2T\\x01\\x0b'\n",
        "    kdf = PBKDF2HMAC(\n",
        "        algorithm=hashes.SHA256(),\n",
        "        length=32,\n",
        "        salt=salt,\n",
        "        iterations=100000,\n",
        "        backend=default_backend()\n",
        "    )\n",
        "    key = base64.urlsafe_b64encode(kdf.derive(password.encode()))\n",
        "    return key"
      ],
      "metadata": {
        "id": "A3uuba5KAZCs"
      },
      "execution_count": null,
      "outputs": []
    },
    {
      "cell_type": "code",
      "source": [
        "import random\n",
        "import numpy as np\n",
        "import matplotlib.pyplot as plt\n",
        "# Load the image\n",
        "passw=''\n",
        "\n",
        "def encryptor_matrix_generator(image,passw):\n",
        "      password= generate_fernet_key(passw)\n",
        "      password_values= password_reader(password)\n",
        "      image= plt.imread(image)\n",
        "      encryptor_matrix = np.ones_like(image,dtype=np.uint8)\n",
        "\n",
        "      width = encryptor_matrix.shape[0]\n",
        "      height = encryptor_matrix.shape[1]\n",
        "      depth = encryptor_matrix.shape[2]\n",
        "      counter= 0\n",
        "      for i in range(width):\n",
        "        for j in range(height):\n",
        "\n",
        "            for k in range(depth):\n",
        "                #random_number = random.choice(numbers)\n",
        "                if counter >= len(password_values):\n",
        "                    counter=0\n",
        "                encryptor_matrix[i][j][k]= (encryptor_matrix[i][j][k]* password_values[counter])\n",
        "                counter=counter+1\n",
        "\n",
        "      return encryptor_matrix\n",
        "\n",
        "\n"
      ],
      "metadata": {
        "id": "eKch1f8vyD5d"
      },
      "execution_count": null,
      "outputs": []
    },
    {
      "cell_type": "code",
      "source": [
        "from PIL import Image\n",
        "import numpy as np\n",
        "def encryptor(image, password):\n",
        "     global passw\n",
        "     passw = generate_fernet_key(password)\n",
        "     img = plt.imread(image)\n",
        "     encrypted_image = np.ones_like(img, dtype=np.uint8)\n",
        "     encryptor_matrix= encryptor_matrix_generator(image,password)\n",
        "     width= encryptor_matrix.shape[0]\n",
        "     height =encryptor_matrix.shape[1]\n",
        "     depth = encryptor_matrix.shape[2]\n",
        "     image_pixels= plt.imread(image)\n",
        "     for i in range(width):\n",
        "          for j in range(height):\n",
        "              for k in range(depth):\n",
        "\n",
        "\n",
        "                  encrypted_image[i][j][k]= (encryptor_matrix[i][j][k]^(~image_pixels[i][j][k]))\n",
        "\n",
        "\n",
        "\n",
        "     image = Image.fromarray(encrypted_image.astype(np.uint8))\n",
        "\n",
        "     # Save the image as PNG\n",
        "     encrypted_image_path = 'encrypted_image.png'\n",
        "     image.save(encrypted_image_path)\n"
      ],
      "metadata": {
        "id": "XJUiuCj_z-Vt"
      },
      "execution_count": null,
      "outputs": []
    },
    {
      "cell_type": "markdown",
      "source": [],
      "metadata": {
        "id": "g_Z7wGSszMTN"
      }
    },
    {
      "cell_type": "code",
      "source": [
        "'''\n",
        "def decryptor(encrypted_image_path,password):\n",
        "      encrypted_image= plt.imread('encrypted_image.png')\n",
        "      encrypted_image=encrypted_image*255\n",
        "      encrypted_image= encrypted_image.astype(np.uint8)\n",
        "      encryptor_matrix = np.ones_like(encrypted_image, dtype=np.uint8)\n",
        "      org_image_matrix = np.ones_like(encrypted_image, dtype=np.uint8)\n",
        "      width = encryptor_matrix.shape[0]\n",
        "      height = encryptor_matrix.shape[1]\n",
        "      depth = encryptor_matrix.shape[2]\n",
        "      password_val= password_reader(password)\n",
        "      counter= 0\n",
        "      encryptor_matrix= encryptor_matrix_generator(encrypted_image_path,password)\n",
        "\n",
        "      if password == passw:\n",
        "        for i in range(width):\n",
        "            for j in range(height):\n",
        "                for k in range(depth):\n",
        "                    org_image_matrix[i][j][k]= (encryptor_matrix[i][j][k])^(~(encrypted_image[i][j][k]))\n",
        "        plt.imsave('decrypted_image.png',org_image_matrix)\n",
        "      if password != passw:\n",
        "           random_mat = np.ones_like(encrypted_image, dtype=np.uint8)\n",
        "           plt.imsave('decrypted_image.png',random_mat)\n",
        "'''"
      ],
      "metadata": {
        "id": "IBU429ZJ1-K2",
        "colab": {
          "base_uri": "https://localhost:8080/",
          "height": 122
        },
        "outputId": "cda4f1a8-807f-47e3-a25f-fffe34e046a5"
      },
      "execution_count": null,
      "outputs": [
        {
          "output_type": "execute_result",
          "data": {
            "text/plain": [
              "\"\\ndef decryptor(encrypted_image_path,password):\\n      encrypted_image= plt.imread('encrypted_image.png')\\n      encrypted_image=encrypted_image*255\\n      encrypted_image= encrypted_image.astype(np.uint8)\\n      encryptor_matrix = np.ones_like(encrypted_image, dtype=np.uint8)\\n      org_image_matrix = np.ones_like(encrypted_image, dtype=np.uint8)\\n      width = encryptor_matrix.shape[0]\\n      height = encryptor_matrix.shape[1]\\n      depth = encryptor_matrix.shape[2]\\n      password_val= password_reader(password)\\n      counter= 0\\n      encryptor_matrix= encryptor_matrix_generator(encrypted_image_path,password)\\n\\n      if password == passw:\\n        for i in range(width):\\n            for j in range(height):\\n                for k in range(depth):\\n                    org_image_matrix[i][j][k]= (encryptor_matrix[i][j][k])^(~(encrypted_image[i][j][k]))\\n        plt.imsave('decrypted_image.png',org_image_matrix)\\n      if password != passw:\\n           random_mat = np.ones_like(encrypted_image, dtype=np.uint8)\\n           plt.imsave('decrypted_image.png',random_mat)\\n\""
            ],
            "application/vnd.google.colaboratory.intrinsic+json": {
              "type": "string"
            }
          },
          "metadata": {},
          "execution_count": 31
        }
      ]
    },
    {
      "cell_type": "code",
      "source": [
        "import numpy as np\n",
        "import matplotlib.pyplot as plt\n",
        "def decryptor(encrypted_image_path,password):\n",
        "      encrypted_image= plt.imread('encrypted_image.png')\n",
        "      encrypted_image=encrypted_image*255\n",
        "      encrypted_image= encrypted_image.astype(np.uint8)\n",
        "      encryptor_matrix = np.ones_like(encrypted_image, dtype=np.uint8)\n",
        "      org_image_matrix = np.ones_like(encrypted_image, dtype=np.uint8)\n",
        "      width = encryptor_matrix.shape[0]\n",
        "      height = encryptor_matrix.shape[1]\n",
        "      depth = encryptor_matrix.shape[2]\n",
        "      password_val= password_reader(password)\n",
        "      counter= 0\n",
        "      encryptor_matrix= encryptor_matrix_generator(encrypted_image_path,password)\n",
        "      for i in range(width):\n",
        "          for j in range(height):\n",
        "              for k in range(depth):\n",
        "                  org_image_matrix[i][j][k]= (encryptor_matrix[i][j][k])^(~(encrypted_image[i][j][k]))\n",
        "      plt.imsave('decrypted_image.png',org_image_matrix)\n"
      ],
      "metadata": {
        "id": "FMhNESJjB4GH"
      },
      "execution_count": null,
      "outputs": []
    },
    {
      "cell_type": "code",
      "source": [
        "encryptor('0.jpg','abc123')"
      ],
      "metadata": {
        "id": "L9TYlMI62s0u"
      },
      "execution_count": null,
      "outputs": []
    },
    {
      "cell_type": "code",
      "source": [
        "def security(image,password,key):\n",
        "    encrypted_image = plt.imread(image)\n",
        "    if generate_fernet_key(password) == key:\n",
        "       decryptor(image,password)\n",
        "    else:\n",
        "       random_mat = np.ones_like((encrypted_image), dtype=np.uint8)\n",
        "       plt.imsave('decrypted_image.png',random_mat)"
      ],
      "metadata": {
        "id": "HMJtZ65cBykn"
      },
      "execution_count": null,
      "outputs": []
    },
    {
      "cell_type": "code",
      "source": [
        "generate_fernet_key('abc123')"
      ],
      "metadata": {
        "colab": {
          "base_uri": "https://localhost:8080/"
        },
        "id": "8GYa4HXpO9hn",
        "outputId": "80b83372-d236-4448-d03a-45213c33f2dd"
      },
      "execution_count": null,
      "outputs": [
        {
          "output_type": "execute_result",
          "data": {
            "text/plain": [
              "b'HprMhhjSmgAQP9OtaY3cZb92dFl-zVrUIc2tUpNR9xQ='"
            ]
          },
          "metadata": {},
          "execution_count": 6
        }
      ]
    },
    {
      "cell_type": "code",
      "source": [
        "security('encrypted_image.png','abc123', b'HprMhhjSmgAQP9OtaY3cZb92dFl-zVrUIc2tUpNR9xQ=')"
      ],
      "metadata": {
        "id": "1urt9g-r8hcs"
      },
      "execution_count": null,
      "outputs": []
    },
    {
      "cell_type": "code",
      "source": [
        "'''\n",
        "from cryptography.fernet import Fernet\n",
        "from cryptography.hazmat.primitives import hashes\n",
        "from cryptography.hazmat.primitives.kdf.pbkdf2 import PBKDF2HMAC\n",
        "from cryptography.hazmat.backends import default_backend\n",
        "from PIL import Image\n",
        "import io\n",
        "import base64\n",
        "\n",
        "def generate_fernet_key(password, salt):\n",
        "    kdf = PBKDF2HMAC(\n",
        "        algorithm=hashes.SHA256(),\n",
        "        length=32,\n",
        "        salt=salt,\n",
        "        iterations=100000,\n",
        "        backend=default_backend()\n",
        "    )\n",
        "    key = base64.urlsafe_b64encode(kdf.derive(password.encode()))\n",
        "    return key\n",
        "\n",
        "def encrypt_image_with_password(password, image_path):\n",
        "    # Read the image file\n",
        "    with open(image_path, 'rb') as file:\n",
        "        image_data = file.read()\n",
        "\n",
        "    # Generate a secure salt value\n",
        "    salt = b'\\x92\\xd7\\x94\\xcf\\xff\\xcc\\xfe\\xbf\\x8e\\x94\\xe9\\xe2T\\x01\\x0b'\n",
        "\n",
        "    # Generate the Fernet key\n",
        "    key = generate_fernet_key(password, salt)\n",
        "\n",
        "    # Create a Fernet cipher instance using the key\n",
        "    cipher = Fernet(key)\n",
        "\n",
        "    # Encrypt the image data\n",
        "    encrypted_data = cipher.encrypt(image_data)\n",
        "\n",
        "    # Save the encrypted image data to a new image file\n",
        "    encrypted_image_path = 'encrypted_image.png'\n",
        "    with open(encrypted_image_path, 'wb') as file:\n",
        "        file.write(encrypted_data)\n",
        "\n",
        "    # Return the path to the encrypted image and the salt\n",
        "    return encrypted_image_path, salt\n",
        "\n",
        "def decrypt_image_with_password(password, encrypted_image_path, salt):\n",
        "    # Read the encrypted image file\n",
        "    with open(encrypted_image_path, 'rb') as file:\n",
        "        encrypted_data = file.read()\n",
        "\n",
        "    # Generate the Fernet key\n",
        "    key = generate_fernet_key(password, salt)\n",
        "\n",
        "    # Create a Fernet cipher instance using the key\n",
        "    cipher = Fernet(key)\n",
        "\n",
        "    # Decrypt the image data\n",
        "    decrypted_data = cipher.decrypt(encrypted_data)\n",
        "\n",
        "    # Save the decrypted image data to a new image file\n",
        "    decrypted_image_path = 'decrypted_image.png'\n",
        "    with open(decrypted_image_path, 'wb') as file:\n",
        "        file.write(decrypted_data)\n",
        "\n",
        "    # Return the path to the decrypted image\n",
        "    return decrypted_image_path\n",
        "\n",
        "# Example usage\n",
        "password = \"mysecretpassword\"\n",
        "image_path = \"12.jpg\"\n",
        "\n",
        "# Encrypt the image\n",
        "encrypted_image_path, salt = encrypt_image_with_password(password, image_path)\n",
        "print(\"Encrypted image:\", encrypted_image_path)\n",
        "print(\"Salt:\", salt)\n",
        "\n",
        "# Decrypt the image\n",
        "decrypted_image_path = decrypt_image_with_password(password, encrypted_image_path, salt)\n",
        "print(\"Decrypted image:\", decrypted_image_path)\n",
        "'''"
      ],
      "metadata": {
        "colab": {
          "base_uri": "https://localhost:8080/",
          "height": 122
        },
        "id": "8ftorsZtyLZ7",
        "outputId": "b9072ad0-3ab7-4a11-8e97-7d2b4153237b"
      },
      "execution_count": null,
      "outputs": [
        {
          "output_type": "execute_result",
          "data": {
            "text/plain": [
              "'\\nfrom cryptography.fernet import Fernet\\nfrom cryptography.hazmat.primitives import hashes\\nfrom cryptography.hazmat.primitives.kdf.pbkdf2 import PBKDF2HMAC\\nfrom cryptography.hazmat.backends import default_backend\\nfrom PIL import Image\\nimport io\\nimport base64\\n\\ndef generate_fernet_key(password, salt):\\n    kdf = PBKDF2HMAC(\\n        algorithm=hashes.SHA256(),\\n        length=32,\\n        salt=salt,\\n        iterations=100000,\\n        backend=default_backend()\\n    )\\n    key = base64.urlsafe_b64encode(kdf.derive(password.encode()))\\n    return key\\n\\ndef encrypt_image_with_password(password, image_path):\\n    # Read the image file\\n    with open(image_path, \\'rb\\') as file:\\n        image_data = file.read()\\n\\n    # Generate a secure salt value\\n    salt = b\\'\\x92×\\x94ÏÿÌþ¿\\x8e\\x94éâT\\x01\\x0b\\'\\n\\n    # Generate the Fernet key\\n    key = generate_fernet_key(password, salt)\\n\\n    # Create a Fernet cipher instance using the key\\n    cipher = Fernet(key)\\n\\n    # Encrypt the image data\\n    encrypted_data = cipher.encrypt(image_data)\\n\\n    # Save the encrypted image data to a new image file\\n    encrypted_image_path = \\'encrypted_image.png\\'\\n    with open(encrypted_image_path, \\'wb\\') as file:\\n        file.write(encrypted_data)\\n\\n    # Return the path to the encrypted image and the salt\\n    return encrypted_image_path, salt\\n\\ndef decrypt_image_with_password(password, encrypted_image_path, salt):\\n    # Read the encrypted image file\\n    with open(encrypted_image_path, \\'rb\\') as file:\\n        encrypted_data = file.read()\\n\\n    # Generate the Fernet key\\n    key = generate_fernet_key(password, salt)\\n\\n    # Create a Fernet cipher instance using the key\\n    cipher = Fernet(key)\\n\\n    # Decrypt the image data\\n    decrypted_data = cipher.decrypt(encrypted_data)\\n\\n    # Save the decrypted image data to a new image file\\n    decrypted_image_path = \\'decrypted_image.png\\'\\n    with open(decrypted_image_path, \\'wb\\') as file:\\n        file.write(decrypted_data)\\n\\n    # Return the path to the decrypted image\\n    return decrypted_image_path\\n\\n# Example usage\\npassword = \"mysecretpassword\"\\nimage_path = \"12.jpg\"\\n\\n# Encrypt the image\\nencrypted_image_path, salt = encrypt_image_with_password(password, image_path)\\nprint(\"Encrypted image:\", encrypted_image_path)\\nprint(\"Salt:\", salt)\\n\\n# Decrypt the image\\ndecrypted_image_path = decrypt_image_with_password(password, encrypted_image_path, salt)\\nprint(\"Decrypted image:\", decrypted_image_path)\\n'"
            ],
            "application/vnd.google.colaboratory.intrinsic+json": {
              "type": "string"
            }
          },
          "metadata": {},
          "execution_count": 36
        }
      ]
    },
    {
      "cell_type": "code",
      "source": [
        "'''\n",
        "import matplotlib.pyplot as plt\n",
        "plt.imshow('decrypted_image.png')\n",
        "'''"
      ],
      "metadata": {
        "colab": {
          "base_uri": "https://localhost:8080/",
          "height": 35
        },
        "id": "iuHOyEDA-iBF",
        "outputId": "98703834-c4f8-4731-f87b-affa80bbab44"
      },
      "execution_count": null,
      "outputs": [
        {
          "output_type": "execute_result",
          "data": {
            "text/plain": [
              "\"\\nimport matplotlib.pyplot as plt\\nplt.imshow('decrypted_image.png')\\n\""
            ],
            "application/vnd.google.colaboratory.intrinsic+json": {
              "type": "string"
            }
          },
          "metadata": {},
          "execution_count": 37
        }
      ]
    },
    {
      "cell_type": "code",
      "source": [
        "import cv2\n",
        "\n",
        "# Load the original image, nose image, and eyes image\n",
        "original_image = cv2.imread('12.jpg')\n",
        "nose_image = cv2.imread('1.jpg')\n",
        "eyes_image = cv2.imread('15.jpg')\n",
        "\n",
        "# Convert the images to grayscale\n",
        "original_gray = cv2.cvtColor(original_image, cv2.COLOR_BGR2GRAY)\n",
        "nose_gray = cv2.cvtColor(nose_image, cv2.COLOR_BGR2GRAY)\n",
        "eyes_gray = cv2.cvtColor(eyes_image, cv2.COLOR_BGR2GRAY)\n",
        "\n",
        "# Detect faces in the original image\n",
        "face_cascade = cv2.CascadeClassifier(cv2.data.haarcascades + 'haarcascade_frontalface_default.xml')\n",
        "faces = face_cascade.detectMultiScale(original_gray, scaleFactor=1.1, minNeighbors=5)\n",
        "\n",
        "for (x, y, w, h) in faces:\n",
        "    # Crop the region of interest (ROI) for nose and eyes\n",
        "    nose_roi = nose_gray[y:y+h, x:x+w]\n",
        "    eyes_roi = eyes_gray[y:y+h, x:x+w]\n",
        "\n",
        "    # Resize the nose ROI to match the original image size\n",
        "    nose_resized = cv2.resize(nose_roi, (w, h))\n",
        "\n",
        "    # Resize the eyes ROI to match the original image size\n",
        "    eyes_resized = cv2.resize(eyes_roi, (w, h))\n",
        "\n",
        "    # Replace the nose region in the original image with the nose ROI\n",
        "    original_image[y:y+h, x:x+w] = nose_resized\n",
        "\n",
        "    # Replace the eyes region in the original image with the eyes ROI\n",
        "    original_image[y:y+h, x+int(w/2):x+int(w/2)+w] = eyes_resized\n",
        "\n",
        "# Display the final stitched image\n",
        "plt.imsave('decrypted_image.png',original_image)\n",
        "plt.imshow('decrypted_image.png')\n",
        "cv2.waitKey(0)\n",
        "cv2.destroyAllWindows()\n"
      ],
      "metadata": {
        "id": "7qDR5uyIJQxQ"
      },
      "execution_count": null,
      "outputs": []
    }
  ]
}